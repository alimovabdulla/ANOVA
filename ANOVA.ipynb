{
 "cells": [
  {
   "cell_type": "code",
   "execution_count": 2,
   "metadata": {},
   "outputs": [],
   "source": [
    "import numpy as np\n",
    "from scipy import stats"
   ]
  },
  {
   "cell_type": "code",
   "execution_count": 3,
   "metadata": {},
   "outputs": [],
   "source": [
    "# İki və ya daha çox qrup üçün nümunə məlumatları\n",
    "group1 = [23, 21, 19, 24, 25, 22, 20, 23, 22, 21]\n",
    "group2 = [30, 28, 29, 32, 31, 30, 29, 33, 31, 30]\n",
    "group3 = [15, 16, 14, 18, 17, 19, 15, 16, 17, 18]"
   ]
  },
  {
   "cell_type": "code",
   "execution_count": 6,
   "metadata": {},
   "outputs": [],
   "source": [
    "#ANOVA testinin icrasi\n",
    "f_stat, p_value = stats.f_oneway(group1,group2,group3)"
   ]
  },
  {
   "cell_type": "code",
   "execution_count": 7,
   "metadata": {},
   "outputs": [
    {
     "name": "stdout",
     "output_type": "stream",
     "text": [
      "F-statistics: 179.49173553718973 | P-value: 2.539412583007174e-16\n"
     ]
    }
   ],
   "source": [
    "#Nəticələri Çap edirik\n",
    "print(f\"F-statistics: {f_stat} | P-value: {p_value}\")"
   ]
  },
  {
   "cell_type": "code",
   "execution_count": 8,
   "metadata": {},
   "outputs": [
    {
     "name": "stdout",
     "output_type": "stream",
     "text": [
      "Null hipotezini rədd edirik. Qruplar arasında əhəmiyyətli fərq var.\n"
     ]
    }
   ],
   "source": [
    "# P-dəyərini qiymətləndirmək\n",
    "alpha = 0.05\n",
    "if p_value < alpha:\n",
    "    print(\"Null hipotezini rədd edirik. Qruplar arasında əhəmiyyətli fərq var.\")\n",
    "else:\n",
    "    print(\"Null hipotezini qəbul edirik. Qruplar arasında əhəmiyyətli fərq yoxdur.\")"
   ]
  },
  {
   "cell_type": "code",
   "execution_count": null,
   "metadata": {},
   "outputs": [],
   "source": []
  }
 ],
 "metadata": {
  "kernelspec": {
   "display_name": "Ders",
   "language": "python",
   "name": "python3"
  },
  "language_info": {
   "codemirror_mode": {
    "name": "ipython",
    "version": 3
   },
   "file_extension": ".py",
   "mimetype": "text/x-python",
   "name": "python",
   "nbconvert_exporter": "python",
   "pygments_lexer": "ipython3",
   "version": "3.12.3"
  }
 },
 "nbformat": 4,
 "nbformat_minor": 2
}
